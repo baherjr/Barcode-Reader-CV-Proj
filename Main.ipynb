{
 "cells": [
  {
   "cell_type": "code",
   "id": "initial_id",
   "metadata": {
    "collapsed": true,
    "ExecuteTime": {
     "end_time": "2024-11-28T23:50:06.276908Z",
     "start_time": "2024-11-28T23:50:06.109847Z"
    }
   },
   "source": [
    "import cv2\n",
    "import numpy as np"
   ],
   "outputs": [],
   "execution_count": 1
  },
  {
   "metadata": {},
   "cell_type": "markdown",
   "source": "## Test Cases Paths",
   "id": "b282e76a76b13d7e"
  },
  {
   "metadata": {
    "ExecuteTime": {
     "end_time": "2024-11-29T00:04:03.175484Z",
     "start_time": "2024-11-29T00:04:03.171443Z"
    }
   },
   "cell_type": "code",
   "source": [
    "test_image_paths = [\n",
    "    r\"Test Cases-20241123/01 - lol easy.jpg\",\n",
    "    r\"Test Cases-20241123/02 - still easy.jpg\",\n",
    "    r\"Test Cases-20241123/03 - eda ya3am ew3a soba3ak mathazarsh.jpg\",\n",
    "    r\"Test Cases-20241123/04 - fen el nadara.jpg\",\n",
    "    r\"Test Cases-20241123/05 - meen taffa el nour!!!.jpg\",\n",
    "    r\"Test Cases-20241123/06 - meen fata7 el nour 333eenaaayy.jpg\",\n",
    "    r\"Test Cases-20241123/07 - mal7 w felfel.jpg\",\n",
    "    r\"Test Cases-20241123/08 - compresso espresso.jpg\",\n",
    "    r\"Test Cases-20241123/09 - e3del el soora ya3ammm.jpg\",\n",
    "    r\"Test Cases-20241123/10 - wen el kontraastttt.jpg\",\n",
    "    r\"Test Cases-20241123/11 - bayza 5ales di bsara7a.jpg\",\n",
    "]"
   ],
   "id": "4c81718e4fe4b2c8",
   "outputs": [],
   "execution_count": 7
  },
  {
   "metadata": {},
   "cell_type": "markdown",
   "source": "## Identify dim images from a list of image file paths and save them in a list.",
   "id": "795ebe874a9adfe2"
  },
  {
   "metadata": {
    "ExecuteTime": {
     "end_time": "2024-11-29T00:08:40.804291Z",
     "start_time": "2024-11-29T00:08:40.771398Z"
    }
   },
   "cell_type": "code",
   "source": [
    "def find_dim_images(image_paths, threshold=30):\n",
    "\n",
    "    dim_images = []\n",
    "\n",
    "    for image_path in image_paths:\n",
    "        # Read the image in grayscale mode\n",
    "        image = cv2.imread(image_path, cv2.IMREAD_GRAYSCALE)\n",
    "\n",
    "        # Check if the image was loaded successfully\n",
    "        if image is None:\n",
    "            print(f\"Error: Could not load image {image_path}\")\n",
    "            continue\n",
    "\n",
    "        # Calculate the average brightness\n",
    "        avg_brightness = np.mean(image)\n",
    "\n",
    "        # Check if the image is dim\n",
    "        if avg_brightness < threshold:\n",
    "            dim_images.append(image_path)\n",
    "\n",
    "    return dim_images\n",
    "\n",
    "# Example\n",
    "dim_images = find_dim_images(test_image_paths)\n",
    "print(\"Dim images:\", dim_images)"
   ],
   "id": "6ce90cc8f176ad53",
   "outputs": [
    {
     "name": "stdout",
     "output_type": "stream",
     "text": [
      "Dim images: ['Test Cases-20241123/05 - meen taffa el nour!!!.jpg']\n"
     ]
    }
   ],
   "execution_count": 10
  },
  {
   "metadata": {},
   "cell_type": "markdown",
   "source": "## Identify low-contrast images from a list of image file paths, skipping very dim and very bright images.",
   "id": "e480dd4eb7adfdd7"
  },
  {
   "metadata": {
    "ExecuteTime": {
     "end_time": "2024-11-29T00:20:55.475518Z",
     "start_time": "2024-11-29T00:20:55.441636Z"
    }
   },
   "cell_type": "code",
   "source": [
    "def find_low_contrast_images(image_paths, dim_threshold=30, bright_threshold=220, contrast_threshold=50):\n",
    "\n",
    "    low_contrast_images = []\n",
    "\n",
    "    for image_path in image_paths:\n",
    "        # Read the image in grayscale\n",
    "        image = cv2.imread(image_path, cv2.IMREAD_GRAYSCALE)\n",
    "\n",
    "        # Check if the image was loaded successfully\n",
    "        if image is None:\n",
    "            print(f\"Error: Could not load image {image_path}\")\n",
    "            continue\n",
    "\n",
    "        # Calculate the average brightness\n",
    "        avg_brightness = np.mean(image)\n",
    "\n",
    "        # Skip dim images\n",
    "        if avg_brightness < dim_threshold:\n",
    "            print(f\"Skipping dim image: {image_path}\")\n",
    "            continue\n",
    "\n",
    "        # Skip very bright images\n",
    "        if avg_brightness > bright_threshold:\n",
    "            print(f\"Skipping bright image: {image_path}\")\n",
    "            continue\n",
    "\n",
    "        # Calculate the intensity range (max - min pixel value)\n",
    "        intensity_range = np.max(image) - np.min(image)\n",
    "\n",
    "        # Check if the image is low contrast\n",
    "        if intensity_range < contrast_threshold:\n",
    "            low_contrast_images.append(image_path)\n",
    "\n",
    "    return low_contrast_images\n",
    "low_contrast_images = find_low_contrast_images(test_image_paths)\n",
    "print(\"Low-contrast images:\", low_contrast_images)"
   ],
   "id": "221a0bde0358f752",
   "outputs": [
    {
     "name": "stdout",
     "output_type": "stream",
     "text": [
      "Skipping bright image: Test Cases-20241123/01 - lol easy.jpg\n",
      "Skipping bright image: Test Cases-20241123/02 - still easy.jpg\n",
      "Skipping bright image: Test Cases-20241123/03 - eda ya3am ew3a soba3ak mathazarsh.jpg\n",
      "Skipping bright image: Test Cases-20241123/04 - fen el nadara.jpg\n",
      "Skipping dim image: Test Cases-20241123/05 - meen taffa el nour!!!.jpg\n",
      "Skipping bright image: Test Cases-20241123/06 - meen fata7 el nour 333eenaaayy.jpg\n",
      "Skipping bright image: Test Cases-20241123/09 - e3del el soora ya3ammm.jpg\n",
      "Low-contrast images: ['Test Cases-20241123/10 - wen el kontraastttt.jpg']\n"
     ]
    }
   ],
   "execution_count": 19
  }
 ],
 "metadata": {
  "kernelspec": {
   "display_name": "Python 3",
   "language": "python",
   "name": "python3"
  },
  "language_info": {
   "codemirror_mode": {
    "name": "ipython",
    "version": 2
   },
   "file_extension": ".py",
   "mimetype": "text/x-python",
   "name": "python",
   "nbconvert_exporter": "python",
   "pygments_lexer": "ipython2",
   "version": "2.7.6"
  }
 },
 "nbformat": 4,
 "nbformat_minor": 5
}
