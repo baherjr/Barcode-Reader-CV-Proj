{
 "cells": [
  {
   "cell_type": "code",
   "id": "initial_id",
   "metadata": {
    "collapsed": true,
    "ExecuteTime": {
     "end_time": "2024-11-29T22:29:47.407888Z",
     "start_time": "2024-11-29T22:29:47.404449Z"
    }
   },
   "source": [
    "import cv2\n",
    "import numpy as np"
   ],
   "outputs": [],
   "execution_count": 3
  },
  {
   "metadata": {},
   "cell_type": "markdown",
   "source": "## Test Cases Paths",
   "id": "b282e76a76b13d7e"
  },
  {
   "metadata": {
    "ExecuteTime": {
     "end_time": "2024-11-29T22:29:47.422440Z",
     "start_time": "2024-11-29T22:29:47.418443Z"
    }
   },
   "cell_type": "code",
   "source": [
    "test_image_paths = [\n",
    "    r\"Test Cases-20241123/01 - lol easy.jpg\",\n",
    "    r\"Test Cases-20241123/02 - still easy.jpg\",\n",
    "    r\"Test Cases-20241123/03 - eda ya3am ew3a soba3ak mathazarsh.jpg\",\n",
    "    r\"Test Cases-20241123/04 - fen el nadara.jpg\",\n",
    "    r\"Test Cases-20241123/05 - meen taffa el nour!!!.jpg\",\n",
    "    r\"Test Cases-20241123/06 - meen fata7 el nour 333eenaaayy.jpg\",\n",
    "    r\"Test Cases-20241123/07 - mal7 w felfel.jpg\",\n",
    "    r\"Test Cases-20241123/08 - compresso espresso.jpg\",\n",
    "    r\"Test Cases-20241123/09 - e3del el soora ya3ammm.jpg\",\n",
    "    r\"Test Cases-20241123/10 - wen el kontraastttt.jpg\",\n",
    "    r\"Test Cases-20241123/11 - bayza 5ales di bsara7a.jpg\",\n",
    "]"
   ],
   "id": "4c81718e4fe4b2c8",
   "outputs": [],
   "execution_count": 4
  },
  {
   "metadata": {},
   "cell_type": "markdown",
   "source": "## Identify dim images from a list of image file paths and save them in a list.",
   "id": "795ebe874a9adfe2"
  },
  {
   "metadata": {
    "ExecuteTime": {
     "end_time": "2024-11-29T22:29:47.538192Z",
     "start_time": "2024-11-29T22:29:47.459441Z"
    }
   },
   "cell_type": "code",
   "source": [
    "def find_dim_images(image_paths, threshold=30):\n",
    "\n",
    "    dim_images = []\n",
    "\n",
    "    for image_path in image_paths:\n",
    "        # Read the image in grayscale mode\n",
    "        image = cv2.imread(image_path, cv2.IMREAD_GRAYSCALE)\n",
    "\n",
    "        # Check if the image was loaded successfully\n",
    "        if image is None:\n",
    "            print(f\"Error: Could not load image {image_path}\")\n",
    "            continue\n",
    "\n",
    "        # Calculate the average brightness\n",
    "        avg_brightness = np.mean(image)\n",
    "\n",
    "        # Check if the image is dim\n",
    "        if avg_brightness < threshold:\n",
    "            dim_images.append(image_path)\n",
    "\n",
    "    return dim_images\n",
    "\n",
    "# Example\n",
    "dim_images = find_dim_images(test_image_paths)\n",
    "print(\"Dim images:\", dim_images)"
   ],
   "id": "6ce90cc8f176ad53",
   "outputs": [
    {
     "name": "stdout",
     "output_type": "stream",
     "text": [
      "Dim images: ['Test Cases-20241123/05 - meen taffa el nour!!!.jpg']\n"
     ]
    }
   ],
   "execution_count": 5
  },
  {
   "metadata": {},
   "cell_type": "markdown",
   "source": "## Identify low-contrast images from a list of image file paths, skipping very dim and very bright images.",
   "id": "e480dd4eb7adfdd7"
  },
  {
   "metadata": {
    "ExecuteTime": {
     "end_time": "2024-11-29T22:29:47.583967Z",
     "start_time": "2024-11-29T22:29:47.548740Z"
    }
   },
   "cell_type": "code",
   "source": [
    "def find_low_contrast_images(image_paths, dim_threshold=30, bright_threshold=220, contrast_threshold=50):\n",
    "\n",
    "    low_contrast_images = []\n",
    "\n",
    "    for image_path in image_paths:\n",
    "        # Read the image in grayscale\n",
    "        image = cv2.imread(image_path, cv2.IMREAD_GRAYSCALE)\n",
    "\n",
    "        # Check if the image was loaded successfully\n",
    "        if image is None:\n",
    "            print(f\"Error: Could not load image {image_path}\")\n",
    "            continue\n",
    "\n",
    "        # Calculate the average brightness\n",
    "        avg_brightness = np.mean(image)\n",
    "\n",
    "        # Skip dim images\n",
    "        if avg_brightness < dim_threshold:\n",
    "            print(f\"Skipping dim image: {image_path}\")\n",
    "            continue\n",
    "\n",
    "        # Skip very bright images\n",
    "        if avg_brightness > bright_threshold:\n",
    "            print(f\"Skipping bright image: {image_path}\")\n",
    "            continue\n",
    "\n",
    "        # Calculate the intensity range (max - min pixel value)\n",
    "        intensity_range = np.max(image) - np.min(image)\n",
    "\n",
    "        # Check if the image is low contrast\n",
    "        if intensity_range < contrast_threshold:\n",
    "            low_contrast_images.append(image_path)\n",
    "\n",
    "    return low_contrast_images\n",
    "low_contrast_images = find_low_contrast_images(test_image_paths)\n",
    "print(\"Low-contrast images:\", low_contrast_images)"
   ],
   "id": "221a0bde0358f752",
   "outputs": [
    {
     "name": "stdout",
     "output_type": "stream",
     "text": [
      "Skipping bright image: Test Cases-20241123/01 - lol easy.jpg\n",
      "Skipping bright image: Test Cases-20241123/02 - still easy.jpg\n",
      "Skipping bright image: Test Cases-20241123/03 - eda ya3am ew3a soba3ak mathazarsh.jpg\n",
      "Skipping bright image: Test Cases-20241123/04 - fen el nadara.jpg\n",
      "Skipping dim image: Test Cases-20241123/05 - meen taffa el nour!!!.jpg\n",
      "Skipping bright image: Test Cases-20241123/06 - meen fata7 el nour 333eenaaayy.jpg\n",
      "Skipping bright image: Test Cases-20241123/09 - e3del el soora ya3ammm.jpg\n",
      "Low-contrast images: ['Test Cases-20241123/10 - wen el kontraastttt.jpg']\n"
     ]
    }
   ],
   "execution_count": 6
  },
  {
   "metadata": {},
   "cell_type": "markdown",
   "source": "## Flag very bright images where the barcode is not clear due to uniform brightness.",
   "id": "75caad2affbe2889"
  },
  {
   "metadata": {
    "ExecuteTime": {
     "end_time": "2024-11-29T22:35:01.154629Z",
     "start_time": "2024-11-29T22:35:01.068339Z"
    }
   },
   "cell_type": "code",
   "source": [
    "def flag_unclear_bright_images(image_paths, bright_threshold=250, variance_threshold=50):\n",
    "    flagged_images = []\n",
    "\n",
    "    for image_path in image_paths:\n",
    "        # Read the image in grayscale\n",
    "        image = cv2.imread(image_path, cv2.IMREAD_GRAYSCALE)\n",
    "\n",
    "        # Check if the image was loaded successfully\n",
    "        if image is None:\n",
    "            print(f\"Error: Could not load image {image_path}\")\n",
    "            continue\n",
    "\n",
    "        # Calculate the average brightness\n",
    "        avg_brightness = np.mean(image)\n",
    "\n",
    "        # Calculate the variance in brightness\n",
    "        brightness_variance = np.var(image)\n",
    "\n",
    "        # Define a region of interest (ROI) for the barcode (assuming bottom center)\n",
    "        h, w = image.shape\n",
    "        roi = image[int(h * 0.8):, int(w * 0.3):int(w * 0.7)]  # Bottom 20%, middle 40%\n",
    "\n",
    "        # Calculate the average brightness and variance in the ROI\n",
    "        roi_avg_brightness = np.mean(roi)\n",
    "        roi_brightness_variance = np.var(roi)\n",
    "\n",
    "        # Flag image if it's too bright and lacks contrast\n",
    "        if avg_brightness > bright_threshold and roi_brightness_variance < variance_threshold:\n",
    "            flagged_images.append(image_path)\n",
    "\n",
    "    return flagged_images\n",
    "\n",
    "flagged_images = flag_unclear_bright_images(test_image_paths)\n",
    "print(\"Flagged images:\", flagged_images)"
   ],
   "id": "983716cb76231c87",
   "outputs": [
    {
     "name": "stdout",
     "output_type": "stream",
     "text": [
      "Flagged images: ['Test Cases-20241123/06 - meen fata7 el nour 333eenaaayy.jpg']\n"
     ]
    }
   ],
   "execution_count": 12
  },
  {
   "metadata": {
    "ExecuteTime": {
     "end_time": "2024-11-29T22:51:48.230463Z",
     "start_time": "2024-11-29T22:51:48.179903Z"
    }
   },
   "cell_type": "code",
   "source": [
    "def flag_obscured_barcodes(image_paths, roi_height_ratio=0.2, roi_width_ratio=0.4, disruption_threshold=2):\n",
    "    flagged_images = []\n",
    "\n",
    "    for image_path in image_paths:\n",
    "        # Read the image in grayscale\n",
    "        image = cv2.imread(image_path, cv2.IMREAD_GRAYSCALE)\n",
    "        if image is None:\n",
    "            print(f\"Error: Could not load image {image_path}\")\n",
    "            continue\n",
    "\n",
    "        # Get image dimensions and define ROI\n",
    "        h, w = image.shape\n",
    "        roi = image[int(h * (1 - roi_height_ratio)):, int(w * (1 - roi_width_ratio) / 2):int(w * (1 + roi_width_ratio) / 2)]\n",
    "\n",
    "        # Edge detection to highlight barcode lines\n",
    "        edges = cv2.Canny(roi, 50, 150)\n",
    "\n",
    "        # Count vertical lines (sum along columns)\n",
    "        vertical_line_strength = np.sum(edges, axis=0)\n",
    "\n",
    "        # Check for disruptions in the line strength\n",
    "        line_disruption = np.std(vertical_line_strength) / np.mean(vertical_line_strength)\n",
    "        print(f\"Image: {image_path}\")\n",
    "        print(f\"  Line Disruption Ratio: {line_disruption:.2f}\")\n",
    "\n",
    "        # Flag if disruption exceeds the threshold\n",
    "        if line_disruption > disruption_threshold:\n",
    "            flagged_images.append(image_path)\n",
    "\n",
    "    return flagged_images\n",
    "\n",
    "flagged_images = flag_obscured_barcodes(test_image_paths)\n",
    "print(\"Flagged images:\", flagged_images)\n"
   ],
   "id": "7b962b68e71769a3",
   "outputs": [
    {
     "name": "stdout",
     "output_type": "stream",
     "text": [
      "Image: Test Cases-20241123/01 - lol easy.jpg\n",
      "  Line Disruption Ratio: nan\n",
      "Image: Test Cases-20241123/02 - still easy.jpg\n",
      "  Line Disruption Ratio: nan\n",
      "Image: Test Cases-20241123/03 - eda ya3am ew3a soba3ak mathazarsh.jpg\n",
      "  Line Disruption Ratio: 2.36\n",
      "Image: Test Cases-20241123/04 - fen el nadara.jpg\n",
      "  Line Disruption Ratio: 2.75\n",
      "Image: Test Cases-20241123/05 - meen taffa el nour!!!.jpg\n",
      "  Line Disruption Ratio: nan\n",
      "Image: Test Cases-20241123/06 - meen fata7 el nour 333eenaaayy.jpg\n",
      "  Line Disruption Ratio: nan\n",
      "Image: Test Cases-20241123/07 - mal7 w felfel.jpg\n",
      "  Line Disruption Ratio: 0.12\n",
      "Image: Test Cases-20241123/08 - compresso espresso.jpg\n",
      "  Line Disruption Ratio: 1.03\n",
      "Image: Test Cases-20241123/09 - e3del el soora ya3ammm.jpg\n",
      "  Line Disruption Ratio: nan\n",
      "Image: Test Cases-20241123/10 - wen el kontraastttt.jpg\n",
      "  Line Disruption Ratio: nan\n",
      "Image: Test Cases-20241123/11 - bayza 5ales di bsara7a.jpg\n",
      "  Line Disruption Ratio: 0.98\n",
      "Flagged images: ['Test Cases-20241123/03 - eda ya3am ew3a soba3ak mathazarsh.jpg', 'Test Cases-20241123/04 - fen el nadara.jpg']\n"
     ]
    },
    {
     "name": "stderr",
     "output_type": "stream",
     "text": [
      "C:\\Users\\omarb\\AppData\\Local\\Temp\\ipykernel_14796\\3965685916.py:22: RuntimeWarning: invalid value encountered in scalar divide\n",
      "  line_disruption = np.std(vertical_line_strength) / np.mean(vertical_line_strength)\n"
     ]
    }
   ],
   "execution_count": 15
  }
 ],
 "metadata": {
  "kernelspec": {
   "display_name": "Python 3",
   "language": "python",
   "name": "python3"
  },
  "language_info": {
   "codemirror_mode": {
    "name": "ipython",
    "version": 2
   },
   "file_extension": ".py",
   "mimetype": "text/x-python",
   "name": "python",
   "nbconvert_exporter": "python",
   "pygments_lexer": "ipython2",
   "version": "2.7.6"
  }
 },
 "nbformat": 4,
 "nbformat_minor": 5
}
