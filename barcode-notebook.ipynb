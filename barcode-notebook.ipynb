{
 "cells": [
  {
   "cell_type": "markdown",
   "metadata": {},
   "source": [
    "# Barcode Detection and Processing\n",
    "\n",
    "This notebook contains functions for detecting, cropping, and enhancing barcodes in images using OpenCV."
   ]
  },
  {
   "cell_type": "code",
   "metadata": {
    "ExecuteTime": {
     "end_time": "2024-11-23T20:08:37.349459Z",
     "start_time": "2024-11-23T20:08:37.345140Z"
    }
   },
   "source": [
    "import cv2\n",
    "import numpy as np\n",
    "import matplotlib.pyplot as plt"
   ],
   "outputs": [],
   "execution_count": 43
  },
  {
   "cell_type": "markdown",
   "metadata": {},
   "source": [
    "## Barcode Detection and Cropping\n",
    "\n",
    "The following function detects a barcode in an image, crops it, and ensures it's properly aligned."
   ]
  },
  {
   "cell_type": "code",
   "metadata": {
    "ExecuteTime": {
     "end_time": "2024-11-23T20:08:37.380037Z",
     "start_time": "2024-11-23T20:08:37.371372Z"
    }
   },
   "source": [
    "def detect_and_crop_barcode(image):\n",
    "    \"\"\"\n",
    "    Detects, crops, and centralizes a barcode in an image.\n",
    "    Returns the cropped and aligned barcode image.\n",
    "    \"\"\"\n",
    "    # Convert to grayscale if needed\n",
    "    if len(image.shape) == 3:\n",
    "        gray = cv2.cvtColor(image, cv2.COLOR_BGR2GRAY)\n",
    "    else:\n",
    "        gray = image.copy()\n",
    "\n",
    "    # Apply Gaussian blur to reduce noise\n",
    "    blurred = cv2.GaussianBlur(gray, (5, 5), 0)\n",
    "\n",
    "    # Apply gradient detection\n",
    "    gradient_x = cv2.Sobel(blurred, cv2.CV_64F, 1, 0, ksize=3)\n",
    "    gradient_y = cv2.Sobel(blurred, cv2.CV_64F, 0, 1, ksize=3)\n",
    "    gradient = cv2.subtract(gradient_x, gradient_y)\n",
    "    gradient = cv2.convertScaleAbs(gradient)\n",
    "\n",
    "    # Blur and threshold the gradient image\n",
    "    blurred_gradient = cv2.blur(gradient, (9, 9))\n",
    "    _, thresh = cv2.threshold(blurred_gradient, 225, 255, cv2.THRESH_BINARY)\n",
    "\n",
    "    # Apply morphological operations to connect components\n",
    "    kernel = cv2.getStructuringElement(cv2.MORPH_RECT, (21, 7))\n",
    "    closed = cv2.morphologyEx(thresh, cv2.MORPH_CLOSE, kernel)\n",
    "\n",
    "    # Perform multiple dilations to merge nearby components\n",
    "    closed = cv2.erode(closed, None, iterations=4)\n",
    "    closed = cv2.dilate(closed, None, iterations=4)\n",
    "\n",
    "    # Find contours\n",
    "    contours, _ = cv2.findContours(closed, cv2.RETR_EXTERNAL, cv2.CHAIN_APPROX_SIMPLE)\n",
    "\n",
    "    if not contours:\n",
    "        raise ValueError(\"No barcode contours found\")\n",
    "\n",
    "    # Find the largest contour\n",
    "    c = max(contours, key=cv2.contourArea)\n",
    "\n",
    "    # Get the minimum area rectangle\n",
    "    rect = cv2.minAreaRect(c)\n",
    "    box = cv2.boxPoints(rect)\n",
    "    box = np.int32(box)\n",
    "\n",
    "    # Get width and height of the detected rectangle\n",
    "    width = int(rect[1][0])\n",
    "    height = int(rect[1][1])\n",
    "\n",
    "    # Ensure width is larger than height\n",
    "    if width < height:\n",
    "        width, height = height, width\n",
    "\n",
    "    # Order points for perspective transform\n",
    "    src_pts = order_points(box)\n",
    "\n",
    "    # Define destination points for a straight barcode\n",
    "    dst_pts = np.array([\n",
    "        [0, 0],\n",
    "        [width - 1, 0],\n",
    "        [width - 1, height - 1],\n",
    "        [0, height - 1]\n",
    "    ], dtype=np.float32)\n",
    "\n",
    "    # Calculate perspective transform matrix\n",
    "    M = cv2.getPerspectiveTransform(src_pts, dst_pts)\n",
    "\n",
    "    # Apply perspective transformation\n",
    "    warped = cv2.warpPerspective(gray, M, (width, height))\n",
    "\n",
    "    # Ensure barcode is horizontal (wider than tall)\n",
    "    if warped.shape[0] > warped.shape[1]:\n",
    "        warped = cv2.rotate(warped, cv2.ROTATE_90_CLOCKWISE)\n",
    "\n",
    "    return warped"
   ],
   "outputs": [],
   "execution_count": 44
  },
  {
   "cell_type": "markdown",
   "metadata": {},
   "source": [
    "## Helper Function for Point Ordering\n",
    "\n",
    "This function helps order points for proper perspective transformation."
   ]
  },
  {
   "cell_type": "code",
   "metadata": {
    "ExecuteTime": {
     "end_time": "2024-11-23T20:08:37.390956Z",
     "start_time": "2024-11-23T20:08:37.386044Z"
    }
   },
   "source": [
    "def order_points(pts):\n",
    "    \"\"\"\n",
    "    Orders points in top-left, top-right, bottom-right, bottom-left order.\n",
    "    Important for correct perspective transform.\n",
    "    \"\"\"\n",
    "    # Initialize ordered coordinates\n",
    "    rect = np.zeros((4, 2), dtype=np.float32)\n",
    "\n",
    "    # Top-left point has smallest sum\n",
    "    # Bottom-right point has largest sum\n",
    "    s = pts.sum(axis=1)\n",
    "    rect[0] = pts[np.argmin(s)]\n",
    "    rect[2] = pts[np.argmax(s)]\n",
    "\n",
    "    # Top-right point has smallest difference\n",
    "    # Bottom-left point has largest difference\n",
    "    diff = np.diff(pts, axis=1)\n",
    "    rect[1] = pts[np.argmin(diff)]\n",
    "    rect[3] = pts[np.argmax(diff)]\n",
    "\n",
    "    return rect"
   ],
   "outputs": [],
   "execution_count": 45
  },
  {
   "cell_type": "markdown",
   "metadata": {},
   "source": [
    "## Barcode Enhancement\n",
    "\n",
    "This function enhances the cropped barcode image for better recognition."
   ]
  },
  {
   "cell_type": "code",
   "metadata": {
    "ExecuteTime": {
     "end_time": "2024-11-23T20:08:37.411227Z",
     "start_time": "2024-11-23T20:08:37.406620Z"
    }
   },
   "source": [
    "def enhance_barcode(image):\n",
    "    \"\"\"\n",
    "    Enhances the cropped barcode image for better recognition.\n",
    "    \"\"\"\n",
    "    # Apply adaptive thresholding\n",
    "    thresh = cv2.adaptiveThreshold(\n",
    "        image,\n",
    "        255,\n",
    "        cv2.ADAPTIVE_THRESH_GAUSSIAN_C,\n",
    "        cv2.THRESH_BINARY,\n",
    "        31,  # block size\n",
    "        10   # C constant\n",
    "    )\n",
    "\n",
    "    # Apply morphological operations to clean up the image\n",
    "    kernel = np.ones((1, 3), np.uint8)\n",
    "    thresh = cv2.morphologyEx(thresh, cv2.MORPH_CLOSE, kernel)\n",
    "\n",
    "    return thresh"
   ],
   "outputs": [],
   "execution_count": 46
  },
  {
   "cell_type": "markdown",
   "metadata": {},
   "source": [
    "## Complete Processing Pipeline\n",
    "\n",
    "This function combines all steps to process a barcode image."
   ]
  },
  {
   "cell_type": "code",
   "metadata": {
    "ExecuteTime": {
     "end_time": "2024-11-23T20:08:37.424049Z",
     "start_time": "2024-11-23T20:08:37.419252Z"
    }
   },
   "source": [
    "def process_barcode_image(image_path):\n",
    "    \"\"\"\n",
    "    Complete pipeline for processing a barcode image.\n",
    "    \"\"\"\n",
    "    # Read image\n",
    "    image = cv2.imread(image_path)\n",
    "    if image is None:\n",
    "        raise ValueError(\"Could not read image\")\n",
    "\n",
    "    # Detect and crop barcode\n",
    "    cropped = detect_and_crop_barcode(image)\n",
    "\n",
    "    # Enhance cropped barcode\n",
    "    enhanced = enhance_barcode(cropped)\n",
    "\n",
    "    return enhanced"
   ],
   "outputs": [],
   "execution_count": 47
  },
  {
   "cell_type": "markdown",
   "metadata": {},
   "source": [
    "## Example Usage\n",
    "\n",
    "Here's how to use the pipeline with an example image:"
   ]
  },
  {
   "cell_type": "code",
   "metadata": {
    "ExecuteTime": {
     "end_time": "2024-11-23T20:08:37.510092Z",
     "start_time": "2024-11-23T20:08:37.433929Z"
    }
   },
   "source": [
    "# Process an example image\n",
    "image_path = \"../Barcode-Reader-CV-Proj/Test Cases-20241123/02 - still easy.jpg\"\n",
    "result = process_barcode_image(image_path)\n",
    "img_rgb =cv2.cvtColor(result, cv2.COLOR_BGR2RGB)\n",
    "\n",
    "plt.figure(figsize=(10,8))\n",
    "plt.imshow(img_rgb)\n",
    "plt.axis('off')  # Hide axes\n",
    "plt.show()"
   ],
   "outputs": [
    {
     "data": {
      "text/plain": [
       "<Figure size 1000x800 with 1 Axes>"
      ],
      "image/png": "[encoded data removed]"
     },
     "metadata": {},
     "output_type": "display_data"
    }
   ],
   "execution_count": 48
  }
 ],
 "metadata": {
  "kernelspec": {
   "display_name": "Python 3",
   "language": "python",
   "name": "python3"
  },
  "language_info": {
   "codemirror_mode": {
    "name": "ipython",
    "version": 3
   },
   "file_extension": ".py",
   "mimetype": "text/x-python",
   "name": "python",
   "nbconvert_exporter": "python",
   "pygments_lexer": "ipython3",
   "version": "3.8.0"
  }
 },
 "nbformat": 4,
 "nbformat_minor": 4
}
